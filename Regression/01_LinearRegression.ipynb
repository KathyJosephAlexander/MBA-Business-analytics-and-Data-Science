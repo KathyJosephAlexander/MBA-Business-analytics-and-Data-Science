{
  "nbformat": 4,
  "nbformat_minor": 0,
  "metadata": {
    "colab": {
      "name": "01.LinearRegression.ipynb",
      "provenance": [],
      "collapsed_sections": []
    },
    "kernelspec": {
      "name": "python3",
      "display_name": "Python 3"
    },
    "language_info": {
      "name": "python"
    }
  },
  "cells": [
    {
      "cell_type": "code",
      "execution_count": 1,
      "metadata": {
        "id": "nntIKQryqlZM"
      },
      "outputs": [],
      "source": [
        "import numpy as np\n",
        "import matplotlib.pyplot as plt\n",
        "import pandas as pd"
      ]
    },
    {
      "cell_type": "code",
      "source": [
        "dataset = pd.read_csv('Sakes.csv')"
      ],
      "metadata": {
        "id": "0dFKfg6OyJ7F"
      },
      "execution_count": 2,
      "outputs": []
    },
    {
      "cell_type": "code",
      "source": [
        "x = dataset.iloc[:, :-1].values"
      ],
      "metadata": {
        "id": "zuQxRQxdyNTr"
      },
      "execution_count": 3,
      "outputs": []
    },
    {
      "cell_type": "code",
      "source": [
        "x"
      ],
      "metadata": {
        "colab": {
          "base_uri": "https://localhost:8080/"
        },
        "id": "IBuwr1d8yPWj",
        "outputId": "3e5b7173-6da3-4171-e8cf-4bc22192f4e7"
      },
      "execution_count": 4,
      "outputs": [
        {
          "output_type": "execute_result",
          "data": {
            "text/plain": [
              "array([[  1],\n",
              "       [  2],\n",
              "       [  3],\n",
              "       [  4],\n",
              "       [  5],\n",
              "       [  6],\n",
              "       [  7],\n",
              "       [  8],\n",
              "       [  9],\n",
              "       [ 10],\n",
              "       [ 11],\n",
              "       [ 12],\n",
              "       [ 13],\n",
              "       [ 14],\n",
              "       [ 15],\n",
              "       [ 16],\n",
              "       [ 17],\n",
              "       [ 18],\n",
              "       [ 19],\n",
              "       [ 20],\n",
              "       [ 21],\n",
              "       [ 22],\n",
              "       [ 23],\n",
              "       [ 24],\n",
              "       [ 25],\n",
              "       [ 26],\n",
              "       [ 27],\n",
              "       [ 28],\n",
              "       [ 29],\n",
              "       [ 30],\n",
              "       [ 31],\n",
              "       [ 32],\n",
              "       [ 33],\n",
              "       [ 34],\n",
              "       [ 35],\n",
              "       [ 36],\n",
              "       [ 37],\n",
              "       [ 38],\n",
              "       [ 39],\n",
              "       [ 40],\n",
              "       [ 41],\n",
              "       [ 42],\n",
              "       [ 43],\n",
              "       [ 44],\n",
              "       [ 45],\n",
              "       [ 46],\n",
              "       [ 47],\n",
              "       [ 48],\n",
              "       [ 49],\n",
              "       [ 50],\n",
              "       [ 51],\n",
              "       [ 52],\n",
              "       [ 53],\n",
              "       [ 54],\n",
              "       [ 55],\n",
              "       [ 56],\n",
              "       [ 57],\n",
              "       [ 58],\n",
              "       [ 59],\n",
              "       [ 60],\n",
              "       [ 61],\n",
              "       [ 62],\n",
              "       [ 63],\n",
              "       [ 64],\n",
              "       [ 65],\n",
              "       [ 66],\n",
              "       [ 67],\n",
              "       [ 68],\n",
              "       [ 69],\n",
              "       [ 70],\n",
              "       [ 71],\n",
              "       [ 72],\n",
              "       [ 73],\n",
              "       [ 74],\n",
              "       [ 75],\n",
              "       [ 76],\n",
              "       [ 77],\n",
              "       [ 78],\n",
              "       [ 79],\n",
              "       [ 80],\n",
              "       [ 81],\n",
              "       [ 82],\n",
              "       [ 83],\n",
              "       [ 84],\n",
              "       [ 85],\n",
              "       [ 86],\n",
              "       [ 87],\n",
              "       [ 88],\n",
              "       [ 89],\n",
              "       [ 90],\n",
              "       [ 91],\n",
              "       [ 92],\n",
              "       [ 93],\n",
              "       [ 94],\n",
              "       [ 95],\n",
              "       [ 96],\n",
              "       [ 97],\n",
              "       [ 98],\n",
              "       [ 99],\n",
              "       [100],\n",
              "       [101],\n",
              "       [102],\n",
              "       [103],\n",
              "       [104],\n",
              "       [105],\n",
              "       [106],\n",
              "       [107],\n",
              "       [108],\n",
              "       [109],\n",
              "       [110],\n",
              "       [111],\n",
              "       [112],\n",
              "       [113],\n",
              "       [114],\n",
              "       [115],\n",
              "       [116],\n",
              "       [117],\n",
              "       [118],\n",
              "       [119],\n",
              "       [120],\n",
              "       [121],\n",
              "       [122],\n",
              "       [123],\n",
              "       [124],\n",
              "       [125],\n",
              "       [126],\n",
              "       [127],\n",
              "       [128],\n",
              "       [129],\n",
              "       [130],\n",
              "       [131],\n",
              "       [132],\n",
              "       [133],\n",
              "       [134],\n",
              "       [135],\n",
              "       [136],\n",
              "       [137],\n",
              "       [138],\n",
              "       [139],\n",
              "       [140],\n",
              "       [141],\n",
              "       [142],\n",
              "       [143],\n",
              "       [144],\n",
              "       [145],\n",
              "       [146],\n",
              "       [147],\n",
              "       [148],\n",
              "       [149],\n",
              "       [150],\n",
              "       [151],\n",
              "       [152],\n",
              "       [153],\n",
              "       [154],\n",
              "       [155],\n",
              "       [156],\n",
              "       [157],\n",
              "       [158],\n",
              "       [159],\n",
              "       [160],\n",
              "       [161],\n",
              "       [162],\n",
              "       [163],\n",
              "       [164],\n",
              "       [165],\n",
              "       [166],\n",
              "       [167],\n",
              "       [168],\n",
              "       [169],\n",
              "       [170],\n",
              "       [171],\n",
              "       [172],\n",
              "       [173],\n",
              "       [174],\n",
              "       [175],\n",
              "       [176],\n",
              "       [177],\n",
              "       [178],\n",
              "       [179],\n",
              "       [180],\n",
              "       [181],\n",
              "       [182],\n",
              "       [183],\n",
              "       [184],\n",
              "       [185],\n",
              "       [186],\n",
              "       [187],\n",
              "       [188],\n",
              "       [189],\n",
              "       [190],\n",
              "       [191],\n",
              "       [192],\n",
              "       [193],\n",
              "       [194],\n",
              "       [195],\n",
              "       [196],\n",
              "       [197],\n",
              "       [198],\n",
              "       [199],\n",
              "       [200],\n",
              "       [201],\n",
              "       [202],\n",
              "       [203],\n",
              "       [204],\n",
              "       [205],\n",
              "       [206],\n",
              "       [207],\n",
              "       [208],\n",
              "       [209],\n",
              "       [210],\n",
              "       [211],\n",
              "       [212],\n",
              "       [213],\n",
              "       [214],\n",
              "       [215],\n",
              "       [216],\n",
              "       [217],\n",
              "       [218],\n",
              "       [219],\n",
              "       [220],\n",
              "       [221],\n",
              "       [222],\n",
              "       [223],\n",
              "       [224],\n",
              "       [225],\n",
              "       [226],\n",
              "       [227],\n",
              "       [228],\n",
              "       [229],\n",
              "       [230],\n",
              "       [231],\n",
              "       [232],\n",
              "       [233],\n",
              "       [234],\n",
              "       [235],\n",
              "       [236],\n",
              "       [237],\n",
              "       [238],\n",
              "       [239],\n",
              "       [240],\n",
              "       [241],\n",
              "       [242],\n",
              "       [243],\n",
              "       [244],\n",
              "       [245],\n",
              "       [246],\n",
              "       [247]])"
            ]
          },
          "metadata": {},
          "execution_count": 4
        }
      ]
    },
    {
      "cell_type": "code",
      "source": [
        "y = dataset.iloc[:, -1].values"
      ],
      "metadata": {
        "id": "xOw9WE5JyPwL"
      },
      "execution_count": 5,
      "outputs": []
    },
    {
      "cell_type": "code",
      "source": [
        "y"
      ],
      "metadata": {
        "colab": {
          "base_uri": "https://localhost:8080/"
        },
        "id": "N5Tu6pf3yRhj",
        "outputId": "d3bfcf16-69d5-48c5-d7f4-61bf1d5e1eb3"
      },
      "execution_count": 6,
      "outputs": [
        {
          "output_type": "execute_result",
          "data": {
            "text/plain": [
              "array([ 85.849998,  82.75    ,  85.599998,  85.5     ,  82.900002,\n",
              "        84.      ,  79.650002,  75.      ,  78.550003,  76.400002,\n",
              "        81.5     ,  84.150002,  84.949997,  91.449997,  88.      ,\n",
              "        90.150002,  88.050003,  88.699997,  88.      ,  88.      ,\n",
              "        87.400002,  90.900002,  91.75    ,  93.400002,  90.949997,\n",
              "        90.699997,  92.849998,  94.900002,  94.800003,  96.599998,\n",
              "       100.      , 104.599998, 103.800003, 110.699997, 108.900002,\n",
              "       110.      , 109.099998, 108.400002, 114.      , 112.      ,\n",
              "       109.199997, 104.599998, 100.      , 104.900002, 104.949997,\n",
              "       103.      , 101.800003, 100.949997, 105.349998, 103.650002,\n",
              "       103.900002, 105.      , 103.800003, 104.349998, 105.      ,\n",
              "       105.349998, 101.      ,  92.300003,  94.699997,  95.      ,\n",
              "        92.400002,  96.      ,  94.      ,  94.199997,  95.699997,\n",
              "        96.949997,  98.599998,  98.900002,  96.949997,  97.949997,\n",
              "       100.599998, 102.400002, 102.550003, 103.849998, 103.75    ,\n",
              "       109.      , 110.349998, 106.349998, 102.5     , 105.      ,\n",
              "       105.050003, 105.199997, 103.849998, 105.599998, 108.300003,\n",
              "       108.      , 106.099998, 107.199997, 105.300003, 106.400002,\n",
              "       104.5     , 110.      , 109.099998, 109.      , 114.400002,\n",
              "       120.75    , 128.      , 128.75    , 126.25    , 125.      ,\n",
              "       122.      , 123.949997, 124.349998, 118.199997, 124.199997,\n",
              "       122.5     , 120.75    , 119.900002, 122.      , 122.949997,\n",
              "       123.400002, 122.800003, 122.      , 121.949997, 126.      ,\n",
              "       123.      , 124.099998, 123.      , 126.      , 124.199997,\n",
              "       125.      , 124.849998, 125.400002, 126.25    , 125.650002,\n",
              "       123.400002, 124.900002, 123.      , 122.800003, 121.449997,\n",
              "       120.75    , 122.599998, 126.550003, 134.399994, 133.      ,\n",
              "       132.149994, 135.25    , 137.      , 132.449997, 130.300003,\n",
              "       130.25    , 134.350006, 132.550003, 132.100006, 131.699997,\n",
              "       129.      , 127.099998, 125.      , 126.400002, 126.449997,\n",
              "       125.650002, 128.399994, 130.300003, 129.699997, 133.850006,\n",
              "       134.050003, 134.399994, 132.399994, 130.600006, 133.199997,\n",
              "       132.75    , 131.5     , 133.100006, 140.      , 140.850006,\n",
              "       137.600006, 134.75    , 136.949997, 139.199997, 145.      ,\n",
              "       140.300003, 140.      , 139.800003, 152.5     , 158.75    ,\n",
              "       166.25    , 169.      , 182.850006, 178.350006, 180.149994,\n",
              "       177.850006, 194.899994, 201.649994, 235.      , 227.5     ,\n",
              "       266.      , 225.      , 234.      , 228.5     , 224.600006,\n",
              "       215.050003, 231.5     , 224.800003, 210.5     , 219.949997,\n",
              "       228.      , 230.      , 231.800003, 233.      , 235.      ,\n",
              "       241.399994, 237.5     , 242.      , 241.850006, 242.149994,\n",
              "       244.5     , 250.399994, 238.399994, 223.949997, 240.      ,\n",
              "       239.449997, 238.      , 226.      , 221.949997, 220.      ,\n",
              "       230.449997, 226.800003, 225.600006, 224.      , 228.      ,\n",
              "       229.899994, 226.399994, 230.100006, 230.      , 229.      ,\n",
              "       229.800003, 222.699997, 210.5     , 213.      , 214.5     ,\n",
              "       220.      , 219.050003, 216.600006, 218.699997, 221.      ,\n",
              "       218.699997, 218.899994, 221.199997, 224.300003, 226.399994,\n",
              "       221.449997, 230.300003, 230.949997, 233.      , 234.899994,\n",
              "       239.      , 243.699997])"
            ]
          },
          "metadata": {},
          "execution_count": 6
        }
      ]
    },
    {
      "cell_type": "code",
      "source": [
        "from sklearn.linear_model import LinearRegression\n",
        "regressor = LinearRegression()\n",
        "regressor.fit(x, y)"
      ],
      "metadata": {
        "colab": {
          "base_uri": "https://localhost:8080/"
        },
        "id": "BH841Y40ydDr",
        "outputId": "6048298d-086e-4041-f4fe-ae937cd6ea21"
      },
      "execution_count": 7,
      "outputs": [
        {
          "output_type": "execute_result",
          "data": {
            "text/plain": [
              "LinearRegression()"
            ]
          },
          "metadata": {},
          "execution_count": 7
        }
      ]
    },
    {
      "cell_type": "code",
      "source": [
        "y_pred = regressor.predict(x)"
      ],
      "metadata": {
        "id": "qPQcBYEOylq6"
      },
      "execution_count": 8,
      "outputs": []
    },
    {
      "cell_type": "code",
      "source": [
        "plt.scatter(x, y, color = 'red')\n",
        "plt.plot(x, regressor.predict(x), color = 'blue')\n",
        "plt.xlabel('Package')\n",
        "plt.ylabel('Sales')\n",
        "plt.show()"
      ],
      "metadata": {
        "colab": {
          "base_uri": "https://localhost:8080/",
          "height": 279
        },
        "id": "U1za_W1dyrgt",
        "outputId": "bf5b778f-886d-4dce-bf1d-5a5ce549f56c"
      },
      "execution_count": 9,
      "outputs": [
        {
          "output_type": "display_data",
          "data": {
            "image/png": "[encoded data removed]",
            "text/plain": [
              "<Figure size 432x288 with 1 Axes>"
            ]
          },
          "metadata": {
            "needs_background": "light"
          }
        }
      ]
    },
    {
      "cell_type": "code",
      "source": [
        ""
      ],
      "metadata": {
        "id": "hgYGERKXyx8R"
      },
      "execution_count": 9,
      "outputs": []
    }
  ]
}