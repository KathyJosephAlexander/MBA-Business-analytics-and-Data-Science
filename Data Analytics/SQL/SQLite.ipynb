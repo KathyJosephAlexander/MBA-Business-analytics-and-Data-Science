{
  "nbformat": 4,
  "nbformat_minor": 0,
  "metadata": {
    "colab": {
      "name": "SQLite.ipynb",
      "provenance": [],
      "collapsed_sections": []
    },
    "kernelspec": {
      "name": "python3",
      "display_name": "Python 3"
    },
    "language_info": {
      "name": "python"
    }
  },
  "cells": [
    {
      "cell_type": "code",
      "source": [
        "import sqlite3\n",
        "\n",
        " \n",
        "X = sqlite3.connect('SalesDBNew.db')\n",
        "Y = X.cursor()\n",
        "\n",
        "\n",
        " \n",
        "Y.execute(\"SELECT * FROM Supermarket_sales\")\n",
        "\n",
        "new_list=[]\n",
        "\n",
        "\n",
        "\n",
        "for k in Y.fetchall():\n",
        "  new_list.append(int(k[16]))\n",
        "  \n",
        "\n",
        "\n",
        "\n",
        "print(\"Maximum of Unit price is = \",max(new_list))  \n",
        "\n",
        "print(\"Minimum of Unit price is = \",min(new_list))  \n",
        "\n",
        "print(\"Average of Unit price is = \",sum(new_list)/len(new_list))  \n",
        "\n",
        "\n",
        "\n",
        "X.commit()\n",
        "\n",
        "Y.close()\n",
        "\n"
      ],
      "metadata": {
        "colab": {
          "base_uri": "https://localhost:8080/"
        },
        "id": "2EMolj6739LH",
        "outputId": "8f00424e-8160-43bd-cbf2-1e35c73c11e1"
      },
      "execution_count": 1,
      "outputs": [
        {
          "output_type": "stream",
          "name": "stdout",
          "text": [
            "Maximum of Unit price is =  100\n",
            "Minimum of Unit price is =  0\n",
            "Average of Unit price is =  49.099\n"
          ]
        }
      ]
    },
    {
      "cell_type": "code",
      "source": [
        "import sqlite3\n",
        "\n",
        "  \n",
        "X = sqlite3.connect('SalesDBNew.db')\n",
        "Y = X.cursor()\n",
        "\n",
        "\n",
        " \n",
        "Y.execute(\"SELECT * FROM Supermarket_sales\")\n",
        "\n",
        "new_list=[]\n",
        "\n",
        "\n",
        "\n",
        "for k in Y.fetchall():\n",
        "  new_list.append(int(k[7]))\n",
        "  \n",
        "\n",
        "\n",
        "\n",
        "print(\"Maximum of Quantity is = \",max(new_list))  \n",
        "\n",
        "print(\"Minimum of Quantity is = \",min(new_list))  \n",
        "\n",
        "print(\"Average of Quantity is = \",sum(new_list)/len(new_list))  \n",
        "\n",
        "\n",
        "\n",
        "X.commit()\n",
        "\n",
        "Y.close()\n",
        "\n"
      ],
      "metadata": {
        "colab": {
          "base_uri": "https://localhost:8080/"
        },
        "id": "Ku1sY7fp44jI",
        "outputId": "e759176f-3a07-40f4-baee-535ff77409ca"
      },
      "execution_count": 2,
      "outputs": [
        {
          "output_type": "stream",
          "name": "stdout",
          "text": [
            "Maximum of Quantity is =  10\n",
            "Minimum of Quantity is =  1\n",
            "Average of Quantity is =  5.51\n"
          ]
        }
      ]
    },
    {
      "cell_type": "code",
      "source": [
        "import sqlite3\n",
        "\n",
        "  \n",
        "X = sqlite3.connect('SalesDBNew.db')\n",
        "Y = X.cursor()\n",
        "\n",
        "\n",
        " \n",
        "Y.execute(\"SELECT * FROM Supermarket_sales WHERE Productline = 'Health and beauty'\")\n",
        "\n",
        "new_list=[]\n",
        "\n",
        "\n",
        "for k in Y.fetchall():\n",
        "  new_list.append(int(k[7]))\n",
        "  \n",
        "\n",
        "\n",
        "\n",
        "print(\"Maximum of Quantity with Health and Beauty is = \",max(new_list))  \n",
        "\n",
        "print(\"Minimum of Quantity with Health and Beauty = \",min(new_list))  \n",
        "\n",
        "print(\"Average of Quantity with Health and Beauty = \",sum(new_list)/len(new_list))  \n",
        "\n",
        "\n",
        "\n",
        "X.commit()\n",
        "\n",
        "Y.close()\n",
        "\n"
      ],
      "metadata": {
        "colab": {
          "base_uri": "https://localhost:8080/"
        },
        "id": "1PD3cHSuD1-n",
        "outputId": "6ffd619d-5353-4d22-de7b-36cb4fbb765d"
      },
      "execution_count": 3,
      "outputs": [
        {
          "output_type": "stream",
          "name": "stdout",
          "text": [
            "Maximum of Quantity with Health and Beauty is =  10\n",
            "Minimum of Quantity with Health and Beauty =  1\n",
            "Average of Quantity with Health and Beauty =  5.618421052631579\n"
          ]
        }
      ]
    },
    {
      "cell_type": "code",
      "source": [
        "import sqlite3\n",
        "\n",
        "  \n",
        "X = sqlite3.connect('SalesDBNew.db')\n",
        "Y = X.cursor()\n",
        "\n",
        "\n",
        " \n",
        "Y.execute(\"SELECT * FROM Supermarket_sales WHERE Productline = 'Electronic accessories'\")\n",
        "\n",
        "new_list=[]\n",
        "\n",
        "\n",
        "for k in Y.fetchall():\n",
        "  new_list.append(int(k[7]))\n",
        "  \n",
        "\n",
        "\n",
        "\n",
        "print(\"Maximum of Quantity with Electronic accessories is = \",max(new_list))  \n",
        "\n",
        "print(\"Minimum of Quantity with Electronic accessories = \",min(new_list))  \n",
        "\n",
        "print(\"Average of Quantity with Electronic accessories = \",sum(new_list)/len(new_list))  \n",
        "\n",
        "\n",
        "\n",
        "X.commit()\n",
        "\n",
        "Y.close()\n",
        "\n"
      ],
      "metadata": {
        "colab": {
          "base_uri": "https://localhost:8080/"
        },
        "id": "tqYslTl6ELCn",
        "outputId": "722b1e8c-46f0-435c-8d56-208151ab7085"
      },
      "execution_count": 4,
      "outputs": [
        {
          "output_type": "stream",
          "name": "stdout",
          "text": [
            "Maximum of Quantity with Electronic accessories is =  10\n",
            "Minimum of Quantity with Electronic accessories =  1\n",
            "Average of Quantity with Electronic accessories =  5.711764705882353\n"
          ]
        }
      ]
    },
    {
      "cell_type": "code",
      "source": [
        "import sqlite3\n",
        "\n",
        "  \n",
        "X = sqlite3.connect('SalesDBNew.db')\n",
        "Y = X.cursor()\n",
        "\n",
        "\n",
        " \n",
        "Y.execute(\"SELECT * FROM Supermarket_sales WHERE Gender = 'Male' AND Productline = 'Health and beauty'\")\n",
        "\n",
        "new_list=[]\n",
        "\n",
        "\n",
        "for k in Y.fetchall():\n",
        "  new_list.append(int(k[7]))\n",
        "  \n",
        "\n",
        "\n",
        "\n",
        "print(\"Men with Health and beauty is = \",len(new_list))  \n",
        "\n",
        "\n",
        "\n",
        "\n",
        "X.commit()\n",
        "\n",
        "Y.close()\n",
        "\n"
      ],
      "metadata": {
        "colab": {
          "base_uri": "https://localhost:8080/"
        },
        "id": "9xicy9UCFHyG",
        "outputId": "1209f027-0f55-4575-9df3-a793a527f7e8"
      },
      "execution_count": 5,
      "outputs": [
        {
          "output_type": "stream",
          "name": "stdout",
          "text": [
            "Men with Health and beauty is =  88\n"
          ]
        }
      ]
    },
    {
      "cell_type": "code",
      "source": [
        "import sqlite3\n",
        "\n",
        "  \n",
        "X = sqlite3.connect('SalesDBNew.db')\n",
        "Y = X.cursor()\n",
        "\n",
        "\n",
        " \n",
        "Y.execute(\"SELECT * FROM Supermarket_sales\")\n",
        "\n",
        "new_list=[]\n",
        "\n",
        "\n",
        "for k in Y.fetchall():\n",
        "  new_list.append(int(k[7]))\n",
        "\n",
        "Y.execute(\"SELECT * FROM Supermarket_sales\")\n",
        "\n",
        "new_list1=[]\n",
        "for k in Y.fetchall():\n",
        "  new_list1.append(int(k[8]))\n",
        "\n",
        "\n",
        "\n",
        "X.commit()\n",
        "\n",
        "Y.close()\n",
        "\n",
        "import matplotlib.pyplot as plt\n",
        "plt.scatter(new_list,new_list1)"
      ],
      "metadata": {
        "colab": {
          "base_uri": "https://localhost:8080/",
          "height": 283
        },
        "id": "zkrJA7x_F6-v",
        "outputId": "4ad56838-a373-46f8-91ec-3390956976c2"
      },
      "execution_count": 6,
      "outputs": [
        {
          "output_type": "execute_result",
          "data": {
            "text/plain": [
              "<matplotlib.collections.PathCollection at 0x7f1e73dfeed0>"
            ]
          },
          "metadata": {},
          "execution_count": 6
        },
        {
          "output_type": "display_data",
          "data": {
            "image/png": "[encoded data removed]",
            "text/plain": [
              "<Figure size 432x288 with 1 Axes>"
            ]
          },
          "metadata": {
            "needs_background": "light"
          }
        }
      ]
    },
    {
      "cell_type": "code",
      "source": [
        ""
      ],
      "metadata": {
        "id": "6YmzTCYBGzT1"
      },
      "execution_count": 6,
      "outputs": []
    }
  ]
}